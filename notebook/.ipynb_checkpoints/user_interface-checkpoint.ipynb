{
 "cells": [
  {
   "cell_type": "markdown",
   "id": "2882abbc",
   "metadata": {},
   "source": [
    "# RT2 Assignment 2 - Jupyter\n",
    "### Maria Luisa Aiachini - 4375373\n",
    "\n",
    "This code represents the user interface node.\n",
    "Using this file the user is able to control the robot by:\n",
    "- Start and stop random behavior using two buttons\n",
    "- Controlling linear and angular velocities of the robot using two sliders\n",
    "- Controlling directly the direction of movement of the robot using a keypad\n",
    "\n",
    "Also the user can check the stats of the robot with:\n",
    "- A line plot that shows the actual linear and angular velocities vs the requested ones\n",
    "- A bar plot showing the number of reached and canceled goals\n",
    "- A XY graph showing the current position of the robot\n",
    "- A histogram showing the time needed to reach every target\n",
    "\n",
    "## How to run the simulation\n",
    "At first you need to clone [this repository](https://github.com/Marilwoo/rt2_assignment2) in a ros workspace. Build the package in a ros1 sourced terminal running\n",
    "```\n",
    "catkin_make\n",
    "```\n",
    "For running the simulation the user needs to open two terminals, both sourced with ROS.\n",
    "In the first one the simulation will be run, as well as all the nodes but this one.\n",
    "Run:\n",
    "```\n",
    "roslaunch rt2_assignment2 sim.launch\n",
    "```\n",
    "In the second terminal, move in the folder \n",
    "```\n",
    "ros_ws/src/rt2_assignment2/notebook\n",
    "```\n",
    "Here run:\n",
    "```\n",
    "jupyter notebook --allow-root\n",
    "```\n",
    "Once the jupyter is opened  go in the file `user_interface.ipynb` and run every node.\n",
    "At this point everything is running and the user is able to decide how to interact with the robot.\n"
   ]
  },
  {
   "cell_type": "markdown",
   "id": "515909db",
   "metadata": {},
   "source": [
    "## Importing needed libraries, defining publishers and clients"
   ]
  },
  {
   "cell_type": "code",
   "execution_count": 1,
   "id": "31a45999",
   "metadata": {
    "ExecuteTime": {
     "end_time": "2022-04-07T09:53:16.187347Z",
     "start_time": "2022-04-07T09:53:12.839692Z"
    }
   },
   "outputs": [],
   "source": [
    "import matplotlib\n",
    "import matplotlib.pyplot as plt\n",
    "import rospy\n",
    "import numpy as np\n",
    "import ipywidgets as widgets\n",
    "import math\n",
    "import time\n",
    "import tf\n",
    "import jupyros as jr\n",
    "import actionlib\n",
    "import actionlib.msg\n",
    "import rt2_assignment1.msg\n",
    "from matplotlib.animation import FuncAnimation\n",
    "from matplotlib import animation, rc\n",
    "from IPython.display import display\n",
    "from ipywidgets import Button, Layout, ButtonStyle, GridBox, VBox, HBox, Label, interact, interactive, fixed, interact_manual\n",
    "from rt2_assignment1.srv import Command\n",
    "from geometry_msgs.msg import Twist\n",
    "from nav_msgs.msg import Odometry\n",
    "from actionlib_msgs.msg import GoalID\n",
    "from std_msgs.msg import Bool, Duration\n",
    "from tf.transformations import quaternion_matrix\n",
    "\n",
    "%matplotlib widget\n",
    "\n",
    "# Declaring global variables\n",
    "reached = 0\n",
    "cancelled = 0\n",
    "counter = 0\n",
    "linear_array = []\n",
    "y = [0,0]\n",
    "pos_x = []\n",
    "pos_y = []\n",
    "tempo = []\n",
    "\n",
    "# Init of the node and declaring client for the user interface and the publisher for the cmd_vel to \n",
    "# define velocities\n",
    "rospy.init_node('user_interface')\n",
    "ui_client = rospy.ServiceProxy('/user_interface', Command)\n",
    "pub = rospy.Publisher('/cmd_vel', Twist, queue_size=1 )"
   ]
  },
  {
   "cell_type": "markdown",
   "id": "b139b8e7",
   "metadata": {},
   "source": [
    "## Random behavior buttons\n",
    "Defining the two buttons for the random navigation. The first one is for starting the robot and the second one is for stopping immediately the robot."
   ]
  },
  {
   "cell_type": "code",
   "execution_count": 2,
   "id": "95ceb67a",
   "metadata": {
    "ExecuteTime": {
     "end_time": "2022-04-07T09:53:19.570658Z",
     "start_time": "2022-04-07T09:53:19.429089Z"
    },
    "scrolled": true
   },
   "outputs": [
    {
     "data": {
      "application/vnd.jupyter.widget-view+json": {
       "model_id": "bc3fc40d094a43d9a59b5385e4dda837",
       "version_major": 2,
       "version_minor": 0
      },
      "text/plain": [
       "HBox(children=(Button(description='Start random behaviour', layout=Layout(grid_area='b1', width='auto'), style…"
      ]
     },
     "metadata": {},
     "output_type": "display_data"
    }
   ],
   "source": [
    "# Definitions of the two buttons for the random behaviour and their layout\n",
    "b1 = widgets.Button(description='Start random behaviour',\n",
    "        layout=Layout(width='auto', align=\"center\", grid_area='b1'),\n",
    "        style=ButtonStyle(button_color='palegreen'))\n",
    "\n",
    "b2 = widgets.Button(description='Stop random behaviour',\n",
    "        layout=Layout(width='auto', grid_area='b2'),\n",
    "        style=ButtonStyle(button_color='salmon'))\n",
    "\n",
    "# Callback functions for the two buttons for the random behavour\n",
    "def start_rand(b):\n",
    "    ui_client('start')\n",
    "\n",
    "    \n",
    "def stop_rand(b):\n",
    "    ui_client('stop')\n",
    "\n",
    "b1.on_click(start_rand)\n",
    "b2.on_click(stop_rand)\n",
    "\n",
    "HBox([b1, b2])\n",
    "\n"
   ]
  },
  {
   "cell_type": "markdown",
   "id": "94dabe5e",
   "metadata": {},
   "source": [
    "## Velocity sliders\n",
    "Defining the two sliders for changing manually the linear and angular velocity of the robot."
   ]
  },
  {
   "cell_type": "code",
   "execution_count": 3,
   "id": "541bf467",
   "metadata": {
    "ExecuteTime": {
     "end_time": "2022-04-07T09:53:20.950717Z",
     "start_time": "2022-04-07T09:53:20.776373Z"
    }
   },
   "outputs": [
    {
     "data": {
      "application/vnd.jupyter.widget-view+json": {
       "model_id": "ab83899f77364f2cb4a3367ea4b264cf",
       "version_major": 2,
       "version_minor": 0
      },
      "text/plain": [
       "FloatSlider(value=0.0, description='linear vel', max=3.0, step=0.2)"
      ]
     },
     "metadata": {},
     "output_type": "display_data"
    },
    {
     "data": {
      "application/vnd.jupyter.widget-view+json": {
       "model_id": "d02544e2a347453283cb9eaef86eb148",
       "version_major": 2,
       "version_minor": 0
      },
      "text/plain": [
       "FloatSlider(value=0.0, description='angular vel', max=3.0, step=0.2)"
      ]
     },
     "metadata": {},
     "output_type": "display_data"
    },
    {
     "data": {
      "application/vnd.jupyter.widget-view+json": {
       "model_id": "9e49690bf24041fab7e9e6c5f3022236",
       "version_major": 2,
       "version_minor": 0
      },
      "text/plain": [
       "Output()"
      ]
     },
     "metadata": {},
     "output_type": "display_data"
    }
   ],
   "source": [
    "# Defining the two sliders and their values\n",
    "slider1 = widgets.FloatSlider(description = 'linear vel', min = 0.0, max = 3.0, step = 0.2, value = 0.0)\n",
    "slider2 = widgets.FloatSlider(description = 'angular vel', min = 0.0, max = 3.0, step = 0.2, value = 0.0)\n",
    "output = widgets.Output()\n",
    "display(slider1, slider2, output)\n",
    "\n",
    "# Defining the callbacks for the movement of the two sliders\n",
    "def set_linear(change):\n",
    "    with output:\n",
    "        twist_msg = Twist()\n",
    "        twist_msg.linear.x = slider1.value\n",
    "        pub.publish(twist_msg)\n",
    "\n",
    "        \n",
    "def set_angular(change):\n",
    "    with output:\n",
    "        twist_msg = Twist()\n",
    "        twist_msg.angular.z = slider2.value\n",
    "        pub.publish(twist_msg)\n",
    "\n",
    "slider1.observe(set_linear, names='value')\n",
    "slider2.observe(set_angular, names='value')"
   ]
  },
  {
   "cell_type": "markdown",
   "id": "8f488bf2",
   "metadata": {},
   "source": [
    "## Buttons for controlling manually\n",
    "Defining the 5 buttons for moving manually the robot. Four buttons for moving and one for stopping."
   ]
  },
  {
   "cell_type": "code",
   "execution_count": 4,
   "id": "f9e77622",
   "metadata": {
    "ExecuteTime": {
     "end_time": "2022-04-07T09:53:21.920023Z",
     "start_time": "2022-04-07T09:53:21.677066Z"
    }
   },
   "outputs": [
    {
     "data": {
      "application/vnd.jupyter.widget-view+json": {
       "model_id": "b6a49fa975a6499f9ac05e61318e6448",
       "version_major": 2,
       "version_minor": 0
      },
      "text/plain": [
       "GridBox(children=(Button(description='Left', layout=Layout(grid_area='b1', width='auto'), style=ButtonStyle(bu…"
      ]
     },
     "metadata": {},
     "output_type": "display_data"
    }
   ],
   "source": [
    "# Defining the five buttons for manually moving the robot\n",
    "b1 = widgets.Button(description='Left',\n",
    "        layout=Layout(width='auto', align = 'center', grid_area = 'b1'),\n",
    "        style=ButtonStyle(button_color='palegreen'))\n",
    "\n",
    "b2 = widgets.Button(description='Right',\n",
    "        layout=Layout(width='auto', align = 'center', grid_area = 'b2'),\n",
    "        style=ButtonStyle(button_color='palegreen'))\n",
    "\n",
    "b3 = widgets.Button(description='Straight',\n",
    "        layout=Layout(width='auto', align = 'center', grid_area = 'b3'),\n",
    "        style=ButtonStyle(button_color='palegreen'))\n",
    "\n",
    "b4 = widgets.Button(description='Back',\n",
    "        layout=Layout(width='auto', align = 'center', grid_area = 'b4'),\n",
    "        style=ButtonStyle(button_color='palegreen'))\n",
    "\n",
    "b5 = widgets.Button(description='STOP',\n",
    "        layout=Layout(width='auto', align = 'center', grid_area = 'b5'),\n",
    "        style=ButtonStyle(button_color='salmon'))\n",
    "\n",
    "# Defining the position of the five buttons\n",
    "GridBox(children=[b1, b2, b3, b4, b5],\n",
    "    layout=Layout(\n",
    "    width='50%',\n",
    "    grid_template_rows='30px 30px 30px',\n",
    "    grid_template_columns='20% 20% 20%',\n",
    "    grid_template_areas='''\n",
    "\" . b3 . \"\n",
    "\"b1 b4 b2 \"\n",
    "\"b5 b5 b5\"\n",
    "''')\n",
    "    )"
   ]
  },
  {
   "cell_type": "code",
   "execution_count": 5,
   "id": "febb39b6",
   "metadata": {
    "ExecuteTime": {
     "end_time": "2022-04-07T09:53:21.957267Z",
     "start_time": "2022-04-07T09:53:21.930812Z"
    }
   },
   "outputs": [],
   "source": [
    "# Callback functions for the buttons of the manual mode\n",
    "def straight(b):\n",
    "    twist_msg = Twist()\n",
    "    ui_client('stop')\n",
    "    twist_msg.linear.x = 0.5\n",
    "    twist_msg.angular.z = 0\n",
    "    time.sleep(1)\n",
    "    pub.publish(twist_msg)\n",
    "    \n",
    "def back(b):\n",
    "    twist_msg = Twist()\n",
    "    ui_client('stop')\n",
    "    twist_msg.linear.x = -0.5\n",
    "    twist_msg.angular.z = 0\n",
    "    time.sleep(1)\n",
    "    pub.publish(twist_msg)\n",
    "    \n",
    "def right(b):\n",
    "    twist_msg = Twist()\n",
    "    ui_client('stop')\n",
    "    twist_msg.linear.x = 0\n",
    "    twist_msg.angular.z = 0.8\n",
    "    time.sleep(1)\n",
    "    pub.publish(twist_msg)\n",
    "    \n",
    "def left(b):\n",
    "    twist_msg = Twist()\n",
    "    ui_client('stop')\n",
    "    twist_msg.linear.x = 0\n",
    "    twist_msg.angular.z = -0.8\n",
    "    time.sleep(1)\n",
    "    pub.publish(twist_msg)\n",
    "    \n",
    "def stop(b):\n",
    "    twist_msg = Twist()\n",
    "    ui_client('stop')\n",
    "    twist_msg.linear.x = 0\n",
    "    twist_msg.angular.z = 0\n",
    "    time.sleep(1)\n",
    "    pub.publish(twist_msg)\n",
    "    \n",
    "b1.on_click(left)\n",
    "b2.on_click(right)\n",
    "b3.on_click(straight)\n",
    "b4.on_click(back)\n",
    "b5.on_click(stop)"
   ]
  },
  {
   "cell_type": "markdown",
   "id": "f14e9df9",
   "metadata": {
    "hide_input": false
   },
   "source": [
    "## Line plot: velocities\n",
    "Plotting the real velocity and the requested one, both linear and angular velocity."
   ]
  },
  {
   "cell_type": "code",
   "execution_count": 6,
   "id": "8e3455b3",
   "metadata": {
    "ExecuteTime": {
     "end_time": "2022-04-07T09:53:23.080478Z",
     "start_time": "2022-04-07T09:53:22.620900Z"
    },
    "scrolled": false
   },
   "outputs": [
    {
     "data": {
      "application/vnd.jupyter.widget-view+json": {
       "model_id": "8b183e6a20594c4e97e756bd5e450fec",
       "version_major": 2,
       "version_minor": 0
      },
      "text/plain": [
       "Canvas(toolbar=Toolbar(toolitems=[('Home', 'Reset original view', 'home', 'home'), ('Back', 'Back to previous …"
      ]
     },
     "metadata": {},
     "output_type": "display_data"
    }
   ],
   "source": [
    "start = time.time() # Starting the timer for the progression of the plot\n",
    "time1 = list(range(0, 10))\n",
    "fig1, ax1 = plt.subplots()\n",
    "\n",
    "# Defining the four lines for the plot\n",
    "line1, = ax1.plot([], [], color='k', label='actual velocity') \n",
    "line2, = ax1.plot([], [], color='r', label='requested velocity')\n",
    "line3, = ax1.plot([], [], color='b', label='actual angular velocity')\n",
    "line4, = ax1.plot([], [], color='y', label='requested angular velocity')\n",
    "\n",
    "#Setting labels, title and positions of the legend\n",
    "ax1.set_xlabel('Time') \n",
    "ax1.set_ylabel('Velocity')\n",
    "ax1.set_title(\"Actual velocities and requested velocities\")\n",
    "plt.legend(loc='upper right')\n",
    "y_data1=[]\n",
    "y_data2=[]\n",
    "y_data3=[]\n",
    "y_data4=[]\n",
    "\n",
    "def init1():\n",
    "    line1.set_data([], [])\n",
    "    line2.set_data([],[])\n",
    "    line3.set_data([], [])\n",
    "    line4.set_data([],[])\n",
    "    return [line1, line2, line3, line4]\n",
    "\n",
    "# Callback for the /odom subscriber\n",
    "def vel_callback(msg):\n",
    "    global pos_x, pos_y\n",
    "    if len(time1)>50:\n",
    "        time1.pop(0)\n",
    "     \n",
    "    if len(y_data1)>50:\n",
    "        y_data1.pop(0)\n",
    "    if len(y_data3)>50:\n",
    "        y_data3.pop(0)\n",
    "    y_data1.append(msg.twist.twist.linear.x)\n",
    "    y_data3.append(msg.twist.twist.angular.x) \n",
    "    time1.append(time.time()-start)\n",
    "    #Taking from the  /odom topic also the position for the last plot\n",
    "    pos_x.append(msg.pose.pose.position.x)\n",
    "    pos_y.append(msg.pose.pose.position.y)\n",
    "    \n",
    "    \n",
    "sub = rospy.Subscriber('/odom', Odometry, vel_callback)\n",
    "\n",
    "# Callback for the /cmd_vel subscriber\n",
    "def cmd_vel_callback(msg):   \n",
    "    if len(y_data2)>50:\n",
    "        y_data2.pop(0)\n",
    "    if len(y_data4)>50:\n",
    "        y_data4.pop(0)\n",
    "    y_data2.append(msg.linear.x)\n",
    "    y_data4.append(msg.angular.z)\n",
    "\n",
    "sub_vel = rospy.Subscriber('/cmd_vel', Twist, cmd_vel_callback)\n",
    "\n",
    "\n",
    "# Function for updating the plot in real time\n",
    "def animate1(i):\n",
    "    line1.set_data(time1, y_data1)\n",
    "    line2.set_data(time1, y_data2)\n",
    "    line3.set_data(time1, y_data3)\n",
    "    line4.set_data(time1, y_data4)\n",
    "    ax1.axis([time1[0]+2,time1[9]+0.2,-3,3])   \n",
    "    return [line1,line2, line3, line4]\n",
    "anim = animation.FuncAnimation(fig1, animate1, init_func=init1,\n",
    "                               frames=100, interval=20, blit=True)"
   ]
  },
  {
   "cell_type": "markdown",
   "id": "53b8ea44",
   "metadata": {},
   "source": [
    "## Bar plot: reached and canceled goals\n",
    "Plotting using a bar plot the number of reached targets and the number of canceled goals."
   ]
  },
  {
   "cell_type": "code",
   "execution_count": 7,
   "id": "5615160b",
   "metadata": {
    "ExecuteTime": {
     "end_time": "2022-04-07T09:53:23.416550Z",
     "start_time": "2022-04-07T09:53:23.131219Z"
    }
   },
   "outputs": [
    {
     "data": {
      "application/vnd.jupyter.widget-view+json": {
       "model_id": "1c058af0a49445ac9978a7971217b97c",
       "version_major": 2,
       "version_minor": 0
      },
      "text/plain": [
       "Canvas(toolbar=Toolbar(toolitems=[('Home', 'Reset original view', 'home', 'home'), ('Back', 'Back to previous …"
      ]
     },
     "metadata": {},
     "output_type": "display_data"
    }
   ],
   "source": [
    "# Callback for the /reached subscriber\n",
    "def reach_callback(msg):\n",
    "    global y, reached, cancelled\n",
    "    if msg.data == True:  \n",
    "        reached = reached + 1\n",
    "    else:\n",
    "        cancelled = cancelled + 1\n",
    "    y = [reached, cancelled]\n",
    "\n",
    "\n",
    "sub2 = rospy.Subscriber('/reached', Bool, reach_callback)\n",
    "\n",
    "# Defining the figure\n",
    "x = ['reached', 'cancelled']\n",
    "fig2, ax2 = plt.subplots()\n",
    "ax2.bar(x,y, color = 'b', width = 0.)\n",
    "ax2.set_title('Reached and canceled goals')\n",
    "\n",
    "def init2():\n",
    "    ax2.bar(x,y, color = 'b', width = 0.5)\n",
    "\n",
    "# Function for updating the figure in real time\n",
    "def animate2(i):\n",
    "    global x, y, ax2\n",
    "    ax2.bar(x,y, color = 'b', width = 0.5)\n",
    "    \n",
    "ani2=animation.FuncAnimation(fig2, animate2, init_func=init2, frames=100, interval=100, blit=True)"
   ]
  },
  {
   "cell_type": "markdown",
   "id": "10f70610",
   "metadata": {},
   "source": [
    "## XY graph:position of the robot\n",
    "Plotting an xy graph containing the current position of the robot at each time."
   ]
  },
  {
   "cell_type": "code",
   "execution_count": 8,
   "id": "914bfa65",
   "metadata": {
    "ExecuteTime": {
     "end_time": "2022-04-07T09:53:23.690700Z",
     "start_time": "2022-04-07T09:53:23.427567Z"
    },
    "scrolled": true
   },
   "outputs": [
    {
     "data": {
      "application/vnd.jupyter.widget-view+json": {
       "model_id": "4bf3686269e146df95ac89d2b021788b",
       "version_major": 2,
       "version_minor": 0
      },
      "text/plain": [
       "Canvas(toolbar=Toolbar(toolitems=[('Home', 'Reset original view', 'home', 'home'), ('Back', 'Back to previous …"
      ]
     },
     "metadata": {},
     "output_type": "display_data"
    }
   ],
   "source": [
    "# Defining the plot, labels and title\n",
    "fig4, ax4 = plt.subplots()\n",
    "plt.plot([], [], 'ro')\n",
    "line5,= ax4.plot([],[])\n",
    "ax4.set_xlim(-5, 5)\n",
    "ax4.set_ylim(-5, 5)\n",
    "ax4.set_xlabel('X')\n",
    "ax4.set_ylabel('Y')\n",
    "ax4.set_title('Current X and Y robot position')\n",
    "\n",
    "# Initialization for the plot\n",
    "def plot_init():\n",
    "    line5.set_data([],[])\n",
    "\n",
    "# Function for updating the plot in real time\n",
    "def update_plot(frame):\n",
    "    global pos_x, pos_y\n",
    "    line5.set_data(pos_x, pos_y)\n",
    "    return line5\n",
    "\n",
    "ani = FuncAnimation(fig4, update_plot, init_func=plot_init, frames = 100, interval = 100, blit = True)\n",
    "plt.show(block=True)"
   ]
  },
  {
   "cell_type": "markdown",
   "id": "4c4f9633",
   "metadata": {},
   "source": [
    "## Hist plot: time required for reaching each target\n",
    "Plotting the time required for reaching each target using a histogram."
   ]
  },
  {
   "cell_type": "code",
   "execution_count": 9,
   "id": "989827e9",
   "metadata": {
    "ExecuteTime": {
     "end_time": "2022-04-07T09:53:24.681073Z",
     "start_time": "2022-04-07T09:53:24.331405Z"
    }
   },
   "outputs": [
    {
     "data": {
      "application/vnd.jupyter.widget-view+json": {
       "model_id": "3c9b0e3a225d4688b6d990f7e8eb6a4c",
       "version_major": 2,
       "version_minor": 0
      },
      "text/plain": [
       "Canvas(toolbar=Toolbar(toolitems=[('Home', 'Reset original view', 'home', 'home'), ('Back', 'Back to previous …"
      ]
     },
     "metadata": {},
     "output_type": "display_data"
    }
   ],
   "source": [
    "def time_callback(msg):\n",
    "    global tempo\n",
    "    tempo.append(msg.data.secs)\n",
    "\n",
    "subbb = rospy.Subscriber('/duration', Duration, time_callback)\n",
    "\n",
    "\n",
    "fig5, ax5 = plt.subplots()\n",
    "ax5.hist(tempo, bins = 20, color= 'blue', align = 'mid', stacked='true', edgecolor = 'w')\n",
    "ax5.set_xlim(10, 50)\n",
    "ax5.set_xlabel('Time (seconds)')\n",
    "ax5.set_title('Time required to reach each target')\n",
    "\n",
    "# Initialization for the plot\n",
    "def plot_init5():\n",
    "    ax5.hist(tempo,bins = 20, color= 'blue', align = 'mid', stacked='true', edgecolor = 'w')\n",
    "\n",
    "# Function for updating the plot in real time\n",
    "def update_plot5(frame):\n",
    "    global tempo\n",
    "    ax5.hist(tempo,bins = 20, color= 'blue', align = 'mid', stacked='true', edgecolor = 'w')\n",
    "\n",
    "ani5 = FuncAnimation(fig5, update_plot5, init_func=plot_init5, frames = 100, interval = 100, blit = True)\n",
    "plt.show(block=True)"
   ]
  }
 ],
 "metadata": {
  "hide_input": true,
  "kernelspec": {
   "display_name": "Python 3 (ipykernel)",
   "language": "python",
   "name": "python3"
  },
  "language_info": {
   "codemirror_mode": {
    "name": "ipython",
    "version": 3
   },
   "file_extension": ".py",
   "mimetype": "text/x-python",
   "name": "python",
   "nbconvert_exporter": "python",
   "pygments_lexer": "ipython3",
   "version": "3.8.5"
  },
  "toc": {
   "base_numbering": 1,
   "nav_menu": {},
   "number_sections": true,
   "sideBar": true,
   "skip_h1_title": false,
   "title_cell": "Table of Contents",
   "title_sidebar": "Contents",
   "toc_cell": false,
   "toc_position": {},
   "toc_section_display": true,
   "toc_window_display": false
  },
  "varInspector": {
   "cols": {
    "lenName": 16,
    "lenType": 16,
    "lenVar": 40
   },
   "kernels_config": {
    "python": {
     "delete_cmd_postfix": "",
     "delete_cmd_prefix": "del ",
     "library": "var_list.py",
     "varRefreshCmd": "print(var_dic_list())"
    },
    "r": {
     "delete_cmd_postfix": ") ",
     "delete_cmd_prefix": "rm(",
     "library": "var_list.r",
     "varRefreshCmd": "cat(var_dic_list()) "
    }
   },
   "types_to_exclude": [
    "module",
    "function",
    "builtin_function_or_method",
    "instance",
    "_Feature"
   ],
   "window_display": false
  }
 },
 "nbformat": 4,
 "nbformat_minor": 5
}
